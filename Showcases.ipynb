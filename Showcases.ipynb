{
 "cells": [
  {
   "cell_type": "code",
   "outputs": [],
   "source": [
    "BLUE = \"\\033[36m\"\n",
    "BOLD = \"\\033[1m\"\n",
    "START_SETTINGS = \"\\033[0m\""
   ],
   "metadata": {
    "collapsed": false,
    "ExecuteTime": {
     "end_time": "2024-05-15T11:02:14.252919Z",
     "start_time": "2024-05-15T11:02:14.235742Z"
    }
   },
   "id": "64ec4594744a0bbe",
   "execution_count": 1
  },
  {
   "cell_type": "markdown",
   "source": [
    "### RandomForestClassifierCustom"
   ],
   "metadata": {
    "collapsed": false
   },
   "id": "e2a65d2767679681"
  },
  {
   "cell_type": "code",
   "outputs": [],
   "source": [
    "from custom_random_forest import RandomForestClassifierCustom\n",
    "from sklearn.datasets import make_classification\n",
    "from dori import MeasureTime"
   ],
   "metadata": {
    "collapsed": false,
    "ExecuteTime": {
     "end_time": "2024-05-15T11:02:15.038146Z",
     "start_time": "2024-05-15T11:02:14.243868Z"
    }
   },
   "id": "ef5335428eca07f7",
   "execution_count": 2
  },
  {
   "cell_type": "code",
   "outputs": [],
   "source": [
    "X, y = make_classification(n_samples=120000)\n",
    "random_forest = RandomForestClassifierCustom(max_depth=30, n_estimators=10, \n",
    "                                             max_features=2, random_state=42)\n",
    "random_forest_model = RandomForestClassifierCustom(max_depth=20, n_estimators=50, \n",
    "                                             max_features=2, random_state=42)"
   ],
   "metadata": {
    "collapsed": false,
    "ExecuteTime": {
     "end_time": "2024-05-15T11:02:15.205811Z",
     "start_time": "2024-05-15T11:02:15.039552Z"
    }
   },
   "id": "27cb37a7462b57c6",
   "execution_count": 3
  },
  {
   "cell_type": "code",
   "outputs": [
    {
     "data": {
      "text/plain": "(120000,)"
     },
     "execution_count": 4,
     "metadata": {},
     "output_type": "execute_result"
    }
   ],
   "source": [
    "y.shape"
   ],
   "metadata": {
    "collapsed": false,
    "ExecuteTime": {
     "end_time": "2024-05-15T11:02:15.214627Z",
     "start_time": "2024-05-15T11:02:15.209855Z"
    }
   },
   "id": "1d16106df63c80d7",
   "execution_count": 4
  },
  {
   "cell_type": "code",
   "outputs": [
    {
     "name": "stdout",
     "output_type": "stream",
     "text": [
      "Random Forest - fit с n_jobs = 1\n",
      "\u001B[36m\u001B[1mВремя выполнения программы:\u001B[0m23.52425980567932 сек\n",
      "\u001B[32m\u001B[1mСтарт:\u001B[0mWed May 15 16:02:15 2024\n",
      "\u001B[32m\u001B[1mКонец:\u001B[0mWed May 15 16:02:38 2024\n"
     ]
    }
   ],
   "source": [
    "print('Random Forest - fit с n_jobs = 1')\n",
    "with MeasureTime():\n",
    "    model = random_forest_model.fit(X, y, n_jobs=1)"
   ],
   "metadata": {
    "collapsed": false,
    "ExecuteTime": {
     "end_time": "2024-05-15T11:02:38.749395Z",
     "start_time": "2024-05-15T11:02:15.218335Z"
    }
   },
   "id": "ee9d728142e5d3b3",
   "execution_count": 5
  },
  {
   "cell_type": "code",
   "outputs": [
    {
     "name": "stdout",
     "output_type": "stream",
     "text": [
      "Random Forest - fit с n_jobs = 2 (Распараллеливание на процессах)\n",
      "\u001B[36m\u001B[1mВремя выполнения программы:\u001B[0m14.236527919769287 сек\n",
      "\u001B[32m\u001B[1mСтарт:\u001B[0mWed May 15 16:02:38 2024\n",
      "\u001B[32m\u001B[1mКонец:\u001B[0mWed May 15 16:02:52 2024\n"
     ]
    }
   ],
   "source": [
    "print('Random Forest - fit с n_jobs = 2 (Распараллеливание на процессах)')\n",
    "with MeasureTime():\n",
    "    model_2 = random_forest_model.fit(X, y, n_jobs=2)"
   ],
   "metadata": {
    "collapsed": false,
    "ExecuteTime": {
     "end_time": "2024-05-15T11:02:52.990693Z",
     "start_time": "2024-05-15T11:02:38.749292Z"
    }
   },
   "id": "5036c9d7d58fad45",
   "execution_count": 6
  },
  {
   "cell_type": "code",
   "outputs": [
    {
     "name": "stdout",
     "output_type": "stream",
     "text": [
      "Random Forest -  fit с n_jobs = 2 (Распараллеливание на потоках)\n",
      "\u001B[36m\u001B[1mВремя выполнения программы:\u001B[0m11.286748886108398 сек\n",
      "\u001B[32m\u001B[1mСтарт:\u001B[0mWed May 15 16:02:52 2024\n",
      "\u001B[32m\u001B[1mКонец:\u001B[0mWed May 15 16:03:04 2024\n"
     ]
    }
   ],
   "source": [
    "print('Random Forest -  fit с n_jobs = 2 (Распараллеливание на потоках)')\n",
    "with MeasureTime():\n",
    "    model_3 = random_forest_model.fit(X, y,  n_jobs=2, parallel_process=False)"
   ],
   "metadata": {
    "collapsed": false,
    "ExecuteTime": {
     "end_time": "2024-05-15T11:03:04.282118Z",
     "start_time": "2024-05-15T11:02:52.990693Z"
    }
   },
   "id": "5a2ad5ccedfa0517",
   "execution_count": 7
  },
  {
   "cell_type": "code",
   "outputs": [
    {
     "name": "stdout",
     "output_type": "stream",
     "text": [
      "Random Forest - predict с n_jobs = 1\n",
      "\u001B[36m\u001B[1mВремя выполнения программы:\u001B[0m10.088404893875122 сек\n",
      "\u001B[32m\u001B[1mСтарт:\u001B[0mWed May 15 16:03:04 2024\n",
      "\u001B[32m\u001B[1mКонец:\u001B[0mWed May 15 16:03:14 2024\n"
     ]
    }
   ],
   "source": [
    "print('Random Forest - predict с n_jobs = 1')\n",
    "with MeasureTime():\n",
    "    pred = model.predict(X, n_jobs=1)"
   ],
   "metadata": {
    "collapsed": false,
    "ExecuteTime": {
     "end_time": "2024-05-15T11:03:14.375654Z",
     "start_time": "2024-05-15T11:03:04.282824Z"
    }
   },
   "id": "daeca58a5e3afb6f",
   "execution_count": 8
  },
  {
   "cell_type": "code",
   "outputs": [
    {
     "name": "stdout",
     "output_type": "stream",
     "text": [
      "Random Forest - predict с n_jobs = 2 (Распараллеливание на процессах)\n",
      "\u001B[36m\u001B[1mВремя выполнения программы:\u001B[0m8.937432289123535 сек\n",
      "\u001B[32m\u001B[1mСтарт:\u001B[0mWed May 15 16:03:14 2024\n",
      "\u001B[32m\u001B[1mКонец:\u001B[0mWed May 15 16:03:23 2024\n"
     ]
    }
   ],
   "source": [
    "print('Random Forest - predict с n_jobs = 2 (Распараллеливание на процессах)')\n",
    "with MeasureTime():\n",
    "    pred_2_process = model_2.predict(X, n_jobs=2)"
   ],
   "metadata": {
    "collapsed": false,
    "ExecuteTime": {
     "end_time": "2024-05-15T11:03:23.319331Z",
     "start_time": "2024-05-15T11:03:14.376099Z"
    }
   },
   "id": "174081c6c850dadb",
   "execution_count": 9
  },
  {
   "cell_type": "code",
   "outputs": [
    {
     "name": "stdout",
     "output_type": "stream",
     "text": [
      "Random Forest -  predict с n_jobs = 1 (Распараллеливание на потоках)\n",
      "\u001B[36m\u001B[1mВремя выполнения программы:\u001B[0m0.3819608688354492 сек\n",
      "\u001B[32m\u001B[1mСтарт:\u001B[0mWed May 15 16:03:23 2024\n",
      "\u001B[32m\u001B[1mКонец:\u001B[0mWed May 15 16:03:23 2024\n"
     ]
    }
   ],
   "source": [
    "print('Random Forest -  predict с n_jobs = 1 (Распараллеливание на потоках)')\n",
    "with MeasureTime():\n",
    "    pred_1_threads = model_3.predict(X, n_jobs=1, parallel_process=False)"
   ],
   "metadata": {
    "collapsed": false,
    "ExecuteTime": {
     "end_time": "2024-05-15T11:03:23.701433Z",
     "start_time": "2024-05-15T11:03:23.318827Z"
    }
   },
   "id": "e3e5980e3721a1a3",
   "execution_count": 10
  },
  {
   "cell_type": "code",
   "outputs": [
    {
     "name": "stdout",
     "output_type": "stream",
     "text": [
      "Random Forest -  predict с n_jobs = 2 (Распараллеливание на потоках)\n",
      "\u001B[36m\u001B[1mВремя выполнения программы:\u001B[0m0.2027292251586914 сек\n",
      "\u001B[32m\u001B[1mСтарт:\u001B[0mWed May 15 16:03:23 2024\n",
      "\u001B[32m\u001B[1mКонец:\u001B[0mWed May 15 16:03:23 2024\n"
     ]
    }
   ],
   "source": [
    "print('Random Forest -  predict с n_jobs = 2 (Распараллеливание на потоках)')\n",
    "with MeasureTime():\n",
    "    pred_2_threads = model_3.predict(X, n_jobs=2, parallel_process=False)"
   ],
   "metadata": {
    "collapsed": false,
    "ExecuteTime": {
     "end_time": "2024-05-15T11:03:23.907892Z",
     "start_time": "2024-05-15T11:03:23.704554Z"
    }
   },
   "id": "8f58cefbc5cb1df4",
   "execution_count": 11
  },
  {
   "cell_type": "code",
   "outputs": [
    {
     "name": "stdout",
     "output_type": "stream",
     "text": [
      "True\n",
      "True\n"
     ]
    }
   ],
   "source": [
    "print(all(pred == pred_2_process))\n",
    "print(all(pred == pred_2_threads))"
   ],
   "metadata": {
    "collapsed": false,
    "ExecuteTime": {
     "end_time": "2024-05-15T11:03:23.912068Z",
     "start_time": "2024-05-15T11:03:23.908519Z"
    }
   },
   "id": "f7bde71c15c897e4",
   "execution_count": 12
  },
  {
   "cell_type": "markdown",
   "source": [
    "### OpenFasta"
   ],
   "metadata": {
    "collapsed": false
   },
   "id": "4580bdc937f7b9aa"
  },
  {
   "cell_type": "code",
   "outputs": [],
   "source": [
    "from bio_files_processor import OpenFasta"
   ],
   "metadata": {
    "collapsed": false,
    "ExecuteTime": {
     "end_time": "2024-05-15T11:03:23.914639Z",
     "start_time": "2024-05-15T11:03:23.912797Z"
    }
   },
   "id": "c27ca0ef7cf3a0a9",
   "execution_count": 13
  },
  {
   "cell_type": "code",
   "outputs": [
    {
     "name": "stdout",
     "output_type": "stream",
     "text": [
      "\u001B[36mEXAMPLE (for loop):\u001B[0m\n",
      "\n",
      "> ID: WP_096906625.1\n",
      "Description: dioxygenase AlkB\n",
      "Seq: MTDPLFGVDRAPT\n",
      "\n",
      "> ID: WP_096906626.1\n",
      "Description: dioxygenase AlkB2 \n",
      "Seq: PRALFGMTDVDPT\n",
      "\n",
      "> ID: WP_096906627.1\n",
      "Description: dioxygenase AlkB3 \n",
      "Seq: MTDTDPLGVDRTDPLAPT\n",
      "\n",
      "> ID: WP_096906628.1\n",
      "Description: dioxygenase AlkB4 \n",
      "Seq: MTDPLFTDPGVDDPLFT\n"
     ]
    }
   ],
   "source": [
    "with OpenFasta('./data/sequence.fasta') as fasta:\n",
    "    print(f\"{BLUE}EXAMPLE (for loop):{START_SETTINGS}\\n\")\n",
    "    for record in fasta:\n",
    "        print(record)"
   ],
   "metadata": {
    "collapsed": false,
    "ExecuteTime": {
     "end_time": "2024-05-15T11:03:23.917540Z",
     "start_time": "2024-05-15T11:03:23.915714Z"
    }
   },
   "id": "2aa5c44013845b73",
   "execution_count": 14
  },
  {
   "cell_type": "code",
   "outputs": [
    {
     "name": "stdout",
     "output_type": "stream",
     "text": [
      "\u001B[36mEXAMPLE (read_records):\u001B[0m\n",
      "\n",
      "> ID: WP_096906626.1\n",
      "Description: dioxygenase AlkB2 \n",
      "Seq: PRALFGMTDVDPT\n",
      "\n",
      "> ID: WP_096906628.1\n",
      "Description: dioxygenase AlkB4 \n",
      "Seq: MTDPLFTDPGVDDPLFT\n"
     ]
    }
   ],
   "source": [
    "with OpenFasta('./data/sequence.fasta') as fasta:\n",
    "    print(f\"{BLUE}EXAMPLE (read_records):{START_SETTINGS}\\n\")\n",
    "    lines = fasta.read_records()\n",
    "    print(lines[1])\n",
    "    print(lines[3])"
   ],
   "metadata": {
    "collapsed": false,
    "ExecuteTime": {
     "end_time": "2024-05-15T11:03:23.919614Z",
     "start_time": "2024-05-15T11:03:23.918388Z"
    }
   },
   "id": "c10adbab19f62906",
   "execution_count": 15
  },
  {
   "cell_type": "code",
   "outputs": [
    {
     "name": "stdout",
     "output_type": "stream",
     "text": [
      "\u001B[36mEXAMPLE(read_record):\u001B[0m\n",
      "\n",
      "> ID: WP_096906625.1\n",
      "Description: dioxygenase AlkB\n",
      "Seq: MTDPLFGVDRAPT\n",
      "\n",
      "> ID: WP_096906626.1\n",
      "Description: dioxygenase AlkB2 \n",
      "Seq: PRALFGMTDVDPT\n"
     ]
    }
   ],
   "source": [
    "with OpenFasta('./data/sequence.fasta') as fasta:\n",
    "    print(f\"{BLUE}EXAMPLE(read_record):{START_SETTINGS}\\n\")\n",
    "    line = fasta.read_record()\n",
    "    print(line)\n",
    "    line2 = fasta.read_record()\n",
    "    print(line2)"
   ],
   "metadata": {
    "collapsed": false,
    "ExecuteTime": {
     "end_time": "2024-05-15T11:03:23.933749Z",
     "start_time": "2024-05-15T11:03:23.920383Z"
    }
   },
   "id": "46f0f4c5bee48a8f",
   "execution_count": 16
  },
  {
   "cell_type": "markdown",
   "source": [
    "### run_genscan"
   ],
   "metadata": {
    "collapsed": false
   },
   "id": "3b9a24e8e6b263f1"
  },
  {
   "cell_type": "code",
   "outputs": [],
   "source": [
    "from dori import run_genscan"
   ],
   "metadata": {
    "collapsed": false,
    "ExecuteTime": {
     "end_time": "2024-05-15T11:03:23.933925Z",
     "start_time": "2024-05-15T11:03:23.922301Z"
    }
   },
   "id": "d9d937a37d87e2f4",
   "execution_count": 17
  },
  {
   "cell_type": "code",
   "outputs": [
    {
     "name": "stdout",
     "output_type": "stream",
     "text": [
      "\u001B[36m\u001B[1mGenscanOutput:\u001B[0m\n",
      "status: 200\n",
      "number cds: 20\n",
      "number intron: 197\n",
      "number exon: 198\n"
     ]
    }
   ],
   "source": [
    "res = run_genscan(sequence_file='./data/pingvi_cut.fna', exon_cutoff=0.01, sequence_name=\"Gaaa\")\n",
    "print(res)"
   ],
   "metadata": {
    "collapsed": false,
    "ExecuteTime": {
     "end_time": "2024-05-15T11:03:29.610124Z",
     "start_time": "2024-05-15T11:03:23.923924Z"
    }
   },
   "id": "b233ee0e588ee68b",
   "execution_count": 18
  },
  {
   "cell_type": "code",
   "outputs": [
    {
     "name": "stdout",
     "output_type": "stream",
     "text": [
      ">/tmp/05_15_24-07:03:25.fasta|GENSCAN_predicted_peptide_1|404_aa\n",
      "XDLRHCWRSSRPQESSSGVVLYYLEVSVYDPEVPNTAGSPPDLGERLPDHRVTELFMVRKSCNSGKGLPESVPLIPTNGAQRGARMPDVSTGGEPAERTTASGRRSSLRESWSRNFESSPRWSRGRGLVVGCGIRGDEQAKTVLTTWRLVTDTIKQLKADRAAHQAVIAATAPHPLTPVTLDRAPPEPPPDSNGIDQPNEAERPLTEALSALTISSDPGESHKQQKIGASSHSTEPLDYDPAAHWQAVRQQALAEGHLPTVAYPVIIGEQGPKRWQPLQWDLVKELRRTIMQYGLGAPFMQSLLQNIMTGHLLTPFHTKSLADLIFSPTQKVLWHAHWRELCDRAAIANLDQQAGDPLQAAGAVQLLGENPVSTPQLQAQLAPEILRQSADLTFQVMLKVPDTG\n",
      "\n",
      "\u001B[36m\u001B[1mExon 01 in gene 1:\u001B[0m\n",
      "Start: 825\n",
      "End: 1023\n",
      "Type: Intr\n",
      "\n",
      "\u001B[36m\u001B[1mIntron 01 in gene 1:\u001B[0m\n",
      "Start: 1024\n",
      "End: 7972\n",
      "\n",
      "\u001B[36m\u001B[1mExon 02 in gene 1:\u001B[0m\n",
      "Start: 7973\n",
      "End: 8145\n",
      "Type: Intr\n",
      "\n",
      "\n",
      "Status code: 200\n"
     ]
    }
   ],
   "source": [
    "print(f'{(res.cds_list[0].id)}')\n",
    "print(f'{(res.cds_list[0].seq)}\\n')\n",
    "print(res.exon_list[0])\n",
    "print(res.intron_list[0])\n",
    "print(res.exon_list[1])\n",
    "print(f\"\\nStatus code: {res.status}\")"
   ],
   "metadata": {
    "collapsed": false,
    "ExecuteTime": {
     "end_time": "2024-05-15T11:03:29.614314Z",
     "start_time": "2024-05-15T11:03:29.612504Z"
    }
   },
   "id": "feb8ffe5a1c899d7",
   "execution_count": 19
  },
  {
   "cell_type": "code",
   "outputs": [
    {
     "name": "stdout",
     "output_type": "stream",
     "text": [
      "No exons have been detected\n"
     ]
    }
   ],
   "source": [
    "sequence = \"TCCTCCCCCGGAAACCCCCTTTCCACCTGCCTAGTGGggcttcctttagataa\\\n",
    "ttgggACTTGGGACTGCCTAGTCCTTTCaaggaggccggggggggggggcgaaatGCTATTAACCATTGGGATGGATGCC\\\n",
    "TACCGCATCTTACCACAGaaatggattggtgtttgtatttcagttattcGAGGGATgaagtttaagcggctggttaaaag\\\n",
    "gactagccaagtTAGGAGGGATATGCGTAttagtgttttatacattttggtttgtgtgccgTGTTTGTTAGAGAGTatac\\\n",
    "gaaaaatgattgaaggatcggtttcaacagtgtttccagtaaaacaaaaagggggagatgtggggatgggaatttcaaCA\\\n",
    "ACGAACATTaatgagcttgatgagcaagcgatgtgccattgaggcctgagagggcacgtaggcggaagacaaaggaggag\\\n",
    "gtaatgggctgttgaggagtgagcagggtgggggtcaggaaggcacatcgcgtgatcaggaagaacagaccaatccgctt\\\n",
    "gagcatagacgcatgtgaacacaaggccgcaaccaatcggcaagctgtagaaggcgcgagaaacacttctgtttgctata\\\n",
    "aaagattgccgataaagagcaataaaggtctttggtctttggttgaagcctgccagagtccctGCCATTAATCCCCATAC\\\n",
    "TTGACAGACCAAGTTGTCAGTGGAACCTCTCCATAGGCAGGATCTGCACTGCATGCCGTGCCCTGATTGGAGATCCCTCT\\\n",
    "AACTCGGCAAAACTCCatgttcccagcatctgaagggacgtTAAGATTACCTATATgatcctctttttccttctggtcaa\\\n",
    "taaatggcattttaatcCCTtcaataaatggcattttaatcaATACCTTACATAGTCTGAGTGCTTTTCTTACTGGGATC\\\n",
    "ACAAAGAAAACCAGCTCCAGTGCACTACTTCTGTGAATCCACTCTGcaccttttgttttcttacctTTGCATCCTGTCCT\\\n",
    "GACACAAAGCAGCAGGACAACgagcaaaagaaaagggcaaCAAGAAATATAGGTGATCCAGCTTATAACCCGAGTTAATT\\\n",
    "CCATAGCCTGCTGGGGATGCAAACTGGGAAGTCCTTCATGGATTCATGATGCAGTTCCTAGCGTCACCTGATTCATGTGC\\\n",
    "CTTCTGCAGCAGGAAGACTGTGTTCAAGTGCATCAAGTTGCAATTCCTCTTCTGGCTCCTCCCGAACACCGCAGTGAATT\\\n",
    "GCACGTCTCATCTTTTCTATTTACACACTCCACACCTGAGACCCTGCTGAGTCACAGGACCTCCCTAATCTCCTCCAGAT\\\n",
    "CCTGGACATTGGCCATTCACaactgcaggaggagggagcttgACGGGAAATGGAGCCGAGTGACTGCAGGGCCTACTCCT\\\n",
    "GGCTCCAGTGTCTGCCAGCTCCTTGGATATACTTCAGGCCCAGCAGGTGCTCTCAAAGGCACTTTGCTTTGTGTACCACT\\\n",
    "TTCCTTATCACAGCCAGTAGAAGCCATGAAGAGCCACTGAGGTTATTCCACCTTCTCCTTAACTTCACAGGTTTATAGAC\\\n",
    "ACCTCTTCTCATTGAAGAATTCAGAAGGCAATCTGGTTTTTGGATGCCTACAGACGTGATCCCAATCAGCAGCTTCAACC\\\n",
    "AATTTTGGTACTGCAATAGCTTTAGAGATctccctttctcattttctagtTTATGTTCCAAGGAGTCTCTCTCTAGTAGT\\\n",
    "TTTCCATGGggttttccccaaaacaaaaacctccctGAACTAATTTGGTCATCCTGTATAAAATACATATAGACAGAAGT\\\n",
    "GTATGTCTCTTCTCAAGAACATCATCCTAGTTTGAACATTGTGCTCAAGCACTGTGTTCCAAGCACAGCCTCCTCACCAT\\\n",
    "GGCACCTTCCCAGGCATAGAAGAGTTCAAATGTTAGCAATGAGGCCGAGTCGTGATTTAACGTAgcatcccccccgcccc\\\n",
    "tcttTTATTGCTATGTCATTACCCTCCCAGGAAACAAGCAAGAGCTACAGCTAGCAGCATCTAAGCTGCTGGCAACAAGA\\\n",
    "ATCAGAGGAGCATAAGTTTGTCATATCTAGACTAGACATGACCTTTTGAAACATTCAGGTATGACCTATGATGATACACT\\\n",
    "TCCTTTTACTTATTTAATTACGCTTGACTGAATACTTCCAATAGCTTTTTGACTCAGTGGCTTCACTGTACCTCCAAGTC\\\n",
    "AGCATTTGCAAAGTCATGTCCCTTTTGAACACAGCACTGTTCCTCATTTCACCTCTAAGGACTACTGCTATCACCACAGA\\\n",
    "GCTACTTTTGAGATACTTTATTTACAGCAACATAAAGagcagtacaaaaaaaaagacacatgaGGTATGCAACCCCTTGT\\\n",
    "\"\n",
    "\n",
    "res2 = run_genscan(sequence=sequence, exon_cutoff=0.01, sequence_name=\"Gaaa\")\n",
    "print(res2)"
   ],
   "metadata": {
    "collapsed": false,
    "ExecuteTime": {
     "end_time": "2024-05-15T11:03:30.346970Z",
     "start_time": "2024-05-15T11:03:29.616912Z"
    }
   },
   "id": "ed305133b7181632",
   "execution_count": 20
  },
  {
   "cell_type": "markdown",
   "source": [
    "### AminoAcidSequence, RNASequence, DNASequence"
   ],
   "metadata": {
    "collapsed": false
   },
   "id": "c6321073dcab08ad"
  },
  {
   "cell_type": "code",
   "outputs": [],
   "source": [
    "from dori import RNASequence, DNASequence, AminoAcidSequence"
   ],
   "metadata": {
    "collapsed": false,
    "ExecuteTime": {
     "end_time": "2024-05-15T11:03:30.351017Z",
     "start_time": "2024-05-15T11:03:30.348879Z"
    }
   },
   "id": "1d2fcfdb20fe087c",
   "execution_count": 21
  },
  {
   "cell_type": "code",
   "outputs": [
    {
     "name": "stdout",
     "output_type": "stream",
     "text": [
      "\u001B[36m\u001B[1mGC content in RNASequence(\"AUUGGC\"): \u001B[0m50.0\u001B[0m\n"
     ]
    }
   ],
   "source": [
    "rna = RNASequence('AUUGGC')\n",
    "print(f\"{BLUE}{BOLD}GC content in {rna}: {START_SETTINGS}{rna.gc_content()}{START_SETTINGS}\")"
   ],
   "metadata": {
    "collapsed": false,
    "ExecuteTime": {
     "end_time": "2024-05-15T11:03:30.354302Z",
     "start_time": "2024-05-15T11:03:30.351831Z"
    }
   },
   "id": "d392746b26fe77bf",
   "execution_count": 22
  },
  {
   "cell_type": "code",
   "outputs": [
    {
     "name": "stdout",
     "output_type": "stream",
     "text": [
      "\u001B[36m\u001B[1mMolecular weight in AminoAcidSequence(\"GlyVal\"): \u001B[0m192\u001B[0m\n"
     ]
    }
   ],
   "source": [
    "aminoacid = AminoAcidSequence('GlyVal', record_type='three_letter_sequence')\n",
    "print(f\"{BLUE}{BOLD}Molecular weight in {aminoacid}: {START_SETTINGS}{aminoacid.count_mol_weight()}{START_SETTINGS}\")"
   ],
   "metadata": {
    "collapsed": false,
    "ExecuteTime": {
     "end_time": "2024-05-15T11:03:30.358483Z",
     "start_time": "2024-05-15T11:03:30.356356Z"
    }
   },
   "id": "d65a123acadcd132",
   "execution_count": 23
  },
  {
   "cell_type": "code",
   "outputs": [
    {
     "name": "stdout",
     "output_type": "stream",
     "text": [
      "\u001B[36m\u001B[1mA complementary sequence for DNASequence(\"ATTGC\"): \u001B[0mDNASequence(\"TAACG\")\u001B[0m\n",
      "\u001B[36m\u001B[1mA complementary sequence for RNASequence(\"AUUGGC\"): \u001B[0mRNASequence(\"UAACCG\")\u001B[0m\n"
     ]
    }
   ],
   "source": [
    "dna = DNASequence('ATTGC')\n",
    "rna = RNASequence('AUUGGC')\n",
    "print(f\"{BLUE}{BOLD}A complementary sequence for {dna}: {START_SETTINGS}{dna.complement()}{START_SETTINGS}\")\n",
    "print(f\"{BLUE}{BOLD}A complementary sequence for {rna}: {START_SETTINGS}{rna.complement()}{START_SETTINGS}\")"
   ],
   "metadata": {
    "collapsed": false,
    "ExecuteTime": {
     "end_time": "2024-05-15T11:03:30.362084Z",
     "start_time": "2024-05-15T11:03:30.360376Z"
    }
   },
   "id": "39dca4b55b117ccb",
   "execution_count": 24
  }
 ],
 "metadata": {
  "kernelspec": {
   "display_name": "Python 3",
   "language": "python",
   "name": "python3"
  },
  "language_info": {
   "codemirror_mode": {
    "name": "ipython",
    "version": 2
   },
   "file_extension": ".py",
   "mimetype": "text/x-python",
   "name": "python",
   "nbconvert_exporter": "python",
   "pygments_lexer": "ipython2",
   "version": "2.7.6"
  }
 },
 "nbformat": 4,
 "nbformat_minor": 5
}
